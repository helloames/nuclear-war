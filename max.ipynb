{
 "cells": [
  {
   "cell_type": "code",
   "execution_count": 17,
   "metadata": {},
   "outputs": [],
   "source": [
    "# plan of attack:\n",
    "# collect the dropped cases in our ICB set \n",
    "# check if the dropped cases are the single-country cases (and make sure they're null rows?)"
   ]
  },
  {
   "cell_type": "code",
   "execution_count": 19,
   "metadata": {},
   "outputs": [
    {
     "name": "stdout",
     "output_type": "stream",
     "text": [
      "<class 'pandas.core.series.Series'>\n",
      "356\n"
     ]
    }
   ],
   "source": [
    "import pandas as pd\n",
    "\n",
    "# file paths\n",
    "df = pd.read_csv('release1.1.csv')\n",
    "\n",
    "\n",
    "\n",
    "print(type(df['crisno']))\n",
    "\n",
    "unique_count = df['crisno'].nunique()\n",
    "print(unique_count)"
   ]
  }
 ],
 "metadata": {
  "kernelspec": {
   "display_name": "myenv",
   "language": "python",
   "name": "python3"
  },
  "language_info": {
   "codemirror_mode": {
    "name": "ipython",
    "version": 3
   },
   "file_extension": ".py",
   "mimetype": "text/x-python",
   "name": "python",
   "nbconvert_exporter": "python",
   "pygments_lexer": "ipython3",
   "version": "3.10.13"
  },
  "orig_nbformat": 4
 },
 "nbformat": 4,
 "nbformat_minor": 2
}
