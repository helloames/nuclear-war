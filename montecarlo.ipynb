{
 "cells": [
  {
   "cell_type": "code",
   "execution_count": 36,
   "metadata": {},
   "outputs": [
    {
     "ename": "KeyError",
     "evalue": "\"None of [Index([  nan,   nan, 445.0, 446.0, 447.0, 448.0, 448.0, 450.0, 450.0, 450.0,\\n       ...\\n       170.0, 170.0, 170.0, 170.0, 170.0, 171.0, 172.0, 173.0, 175.0, 175.0],\\n      dtype='float64', length=996)] are in the [columns]\"",
     "output_type": "error",
     "traceback": [
      "\u001b[0;31m---------------------------------------------------------------------------\u001b[0m",
      "\u001b[0;31mKeyError\u001b[0m                                  Traceback (most recent call last)",
      "Cell \u001b[0;32mIn[36], line 28\u001b[0m\n\u001b[1;32m     25\u001b[0m \u001b[39m# iterate over crisis nos\u001b[39;00m\n\u001b[1;32m     26\u001b[0m \u001b[39mfor\u001b[39;00m first_value \u001b[39min\u001b[39;00m unique_crisis_no:\n\u001b[1;32m     27\u001b[0m     \u001b[39m# this filters data for unique crisis no\u001b[39;00m\n\u001b[0;32m---> 28\u001b[0m     filtered_df_first \u001b[39m=\u001b[39m df[df[first_column] \u001b[39m==\u001b[39m first_value]\n\u001b[1;32m     30\u001b[0m     \u001b[39m# this initializes the unique history for each crisis\u001b[39;00m\n\u001b[1;32m     31\u001b[0m     unique_history \u001b[39m=\u001b[39m filtered_df_first[second_column]\u001b[39m.\u001b[39munique()\n",
      "File \u001b[0;32m~/anaconda3/envs/myenv/lib/python3.10/site-packages/pandas/core/frame.py:3767\u001b[0m, in \u001b[0;36mDataFrame.__getitem__\u001b[0;34m(self, key)\u001b[0m\n\u001b[1;32m   3765\u001b[0m     \u001b[39mif\u001b[39;00m is_iterator(key):\n\u001b[1;32m   3766\u001b[0m         key \u001b[39m=\u001b[39m \u001b[39mlist\u001b[39m(key)\n\u001b[0;32m-> 3767\u001b[0m     indexer \u001b[39m=\u001b[39m \u001b[39mself\u001b[39;49m\u001b[39m.\u001b[39;49mcolumns\u001b[39m.\u001b[39;49m_get_indexer_strict(key, \u001b[39m\"\u001b[39;49m\u001b[39mcolumns\u001b[39;49m\u001b[39m\"\u001b[39;49m)[\u001b[39m1\u001b[39m]\n\u001b[1;32m   3769\u001b[0m \u001b[39m# take() does not accept boolean indexers\u001b[39;00m\n\u001b[1;32m   3770\u001b[0m \u001b[39mif\u001b[39;00m \u001b[39mgetattr\u001b[39m(indexer, \u001b[39m\"\u001b[39m\u001b[39mdtype\u001b[39m\u001b[39m\"\u001b[39m, \u001b[39mNone\u001b[39;00m) \u001b[39m==\u001b[39m \u001b[39mbool\u001b[39m:\n",
      "File \u001b[0;32m~/anaconda3/envs/myenv/lib/python3.10/site-packages/pandas/core/indexes/base.py:5877\u001b[0m, in \u001b[0;36mIndex._get_indexer_strict\u001b[0;34m(self, key, axis_name)\u001b[0m\n\u001b[1;32m   5874\u001b[0m \u001b[39melse\u001b[39;00m:\n\u001b[1;32m   5875\u001b[0m     keyarr, indexer, new_indexer \u001b[39m=\u001b[39m \u001b[39mself\u001b[39m\u001b[39m.\u001b[39m_reindex_non_unique(keyarr)\n\u001b[0;32m-> 5877\u001b[0m \u001b[39mself\u001b[39;49m\u001b[39m.\u001b[39;49m_raise_if_missing(keyarr, indexer, axis_name)\n\u001b[1;32m   5879\u001b[0m keyarr \u001b[39m=\u001b[39m \u001b[39mself\u001b[39m\u001b[39m.\u001b[39mtake(indexer)\n\u001b[1;32m   5880\u001b[0m \u001b[39mif\u001b[39;00m \u001b[39misinstance\u001b[39m(key, Index):\n\u001b[1;32m   5881\u001b[0m     \u001b[39m# GH 42790 - Preserve name from an Index\u001b[39;00m\n",
      "File \u001b[0;32m~/anaconda3/envs/myenv/lib/python3.10/site-packages/pandas/core/indexes/base.py:5938\u001b[0m, in \u001b[0;36mIndex._raise_if_missing\u001b[0;34m(self, key, indexer, axis_name)\u001b[0m\n\u001b[1;32m   5936\u001b[0m     \u001b[39mif\u001b[39;00m use_interval_msg:\n\u001b[1;32m   5937\u001b[0m         key \u001b[39m=\u001b[39m \u001b[39mlist\u001b[39m(key)\n\u001b[0;32m-> 5938\u001b[0m     \u001b[39mraise\u001b[39;00m \u001b[39mKeyError\u001b[39;00m(\u001b[39mf\u001b[39m\u001b[39m\"\u001b[39m\u001b[39mNone of [\u001b[39m\u001b[39m{\u001b[39;00mkey\u001b[39m}\u001b[39;00m\u001b[39m] are in the [\u001b[39m\u001b[39m{\u001b[39;00maxis_name\u001b[39m}\u001b[39;00m\u001b[39m]\u001b[39m\u001b[39m\"\u001b[39m)\n\u001b[1;32m   5940\u001b[0m not_found \u001b[39m=\u001b[39m \u001b[39mlist\u001b[39m(ensure_index(key)[missing_mask\u001b[39m.\u001b[39mnonzero()[\u001b[39m0\u001b[39m]]\u001b[39m.\u001b[39munique())\n\u001b[1;32m   5941\u001b[0m \u001b[39mraise\u001b[39;00m \u001b[39mKeyError\u001b[39;00m(\u001b[39mf\u001b[39m\u001b[39m\"\u001b[39m\u001b[39m{\u001b[39;00mnot_found\u001b[39m}\u001b[39;00m\u001b[39m not in index\u001b[39m\u001b[39m\"\u001b[39m)\n",
      "\u001b[0;31mKeyError\u001b[0m: \"None of [Index([  nan,   nan, 445.0, 446.0, 447.0, 448.0, 448.0, 450.0, 450.0, 450.0,\\n       ...\\n       170.0, 170.0, 170.0, 170.0, 170.0, 171.0, 172.0, 173.0, 175.0, 175.0],\\n      dtype='float64', length=996)] are in the [columns]\""
     ]
    }
   ],
   "source": [
    "#import libraries\n",
    "\n",
    "import numpy as np\n",
    "import pandas as pd\n",
    "\n",
    "#data stuff\n",
    "#import data with pandas\n",
    "df = pd.read_csv('crisis_dataset.csv')\n",
    "\n",
    "#data cleaning\n",
    "\n",
    "# drop notes column, drop complexity, drop A1 Nukes and A2 Nukes, drop name\n",
    "df.drop(['NOTES','COMPLEXITY','A1 NUKES','A2 NUKES','NAME'], axis=1, inplace=True)\n",
    "\n",
    "#dropna??\n",
    "#df.dropna(inplace=True)\n",
    "\n",
    "#iterate through crisis, history, row for each crisis\n",
    "first_column = df['CRISNO']\n",
    "second_column = df['HISTORY']\n",
    "\n",
    "unique_crisis_no = first_column.unique()\n",
    "final_selected_rows = []\n",
    "\n",
    "# iterate over crisis nos\n",
    "for first_value in unique_crisis_no:\n",
    "    # this filters data for unique crisis no\n",
    "    filtered_df_first = df[df[first_column] == first_value]\n",
    "    \n",
    "    # this initializes the unique history for each crisis\n",
    "    unique_history = filtered_df_first[second_column].unique()\n",
    "    chosen_history = np.random.choice(unique_history)\n",
    "\n",
    "    final_filtered_df = filtered_df_first[filtered_df_first[second_column] == chosen_history]\n",
    "\n",
    "    # randomly select from filtered data\n",
    "    final_selected_row = final_filtered_df.sample(n=1)\n",
    "\n",
    "    # append to final list\n",
    "    final_selected_rows.append(final_selected_row)\n",
    "\n",
    "# combine to df\n",
    "final_combined_df = pd.concat(final_selected_rows)\n",
    "\n",
    "print(final_combined_df)\n",
    "\n",
    "#model stuff\n",
    "\n",
    "\n",
    "\n",
    "\n"
   ]
  }
 ],
 "metadata": {
  "kernelspec": {
   "display_name": "Python 3",
   "language": "python",
   "name": "python3"
  },
  "language_info": {
   "codemirror_mode": {
    "name": "ipython",
    "version": 3
   },
   "file_extension": ".py",
   "mimetype": "text/x-python",
   "name": "python",
   "nbconvert_exporter": "python",
   "pygments_lexer": "ipython3",
   "version": "3.10.13"
  }
 },
 "nbformat": 4,
 "nbformat_minor": 2
}
